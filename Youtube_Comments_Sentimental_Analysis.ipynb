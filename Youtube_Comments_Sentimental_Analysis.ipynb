{
  "nbformat": 4,
  "nbformat_minor": 0,
  "metadata": {
    "colab": {
      "provenance": []
    },
    "kernelspec": {
      "name": "python3",
      "display_name": "Python 3"
    },
    "language_info": {
      "name": "python"
    }
  },
  "cells": [
    {
      "cell_type": "code",
      "execution_count": 2,
      "metadata": {
        "colab": {
          "base_uri": "https://localhost:8080/"
        },
        "id": "UoXC8xGMk65T",
        "outputId": "5f28b6a9-0c75-4e71-940b-1718937c86f0"
      },
      "outputs": [
        {
          "output_type": "stream",
          "name": "stdout",
          "text": [
            "Collecting emoji\n",
            "  Downloading emoji-2.12.1-py3-none-any.whl (431 kB)\n",
            "\u001b[2K     \u001b[90m━━━━━━━━━━━━━━━━━━━━━━━━━━━━━━━━━━━━━━━━\u001b[0m \u001b[32m431.4/431.4 kB\u001b[0m \u001b[31m4.6 MB/s\u001b[0m eta \u001b[36m0:00:00\u001b[0m\n",
            "\u001b[?25hRequirement already satisfied: typing-extensions>=4.7.0 in /usr/local/lib/python3.10/dist-packages (from emoji) (4.12.2)\n",
            "Installing collected packages: emoji\n",
            "Successfully installed emoji-2.12.1\n"
          ]
        }
      ],
      "source": [
        "!pip install emoji"
      ]
    },
    {
      "cell_type": "code",
      "source": [
        "!pip install vaderSentiment"
      ],
      "metadata": {
        "colab": {
          "base_uri": "https://localhost:8080/"
        },
        "id": "XRJ7tslTlZoB",
        "outputId": "80028c29-3928-45d6-d922-2072882cd8ce"
      },
      "execution_count": 3,
      "outputs": [
        {
          "output_type": "stream",
          "name": "stdout",
          "text": [
            "Collecting vaderSentiment\n",
            "  Downloading vaderSentiment-3.3.2-py2.py3-none-any.whl (125 kB)\n",
            "\u001b[?25l     \u001b[90m━━━━━━━━━━━━━━━━━━━━━━━━━━━━━━━━━━━━━━━━\u001b[0m \u001b[32m0.0/126.0 kB\u001b[0m \u001b[31m?\u001b[0m eta \u001b[36m-:--:--\u001b[0m\r\u001b[2K     \u001b[91m━━━━━━━━━━━━━━━━━━━━━━━━━━━━━\u001b[0m\u001b[90m╺\u001b[0m\u001b[90m━━━━━━━━━━\u001b[0m \u001b[32m92.2/126.0 kB\u001b[0m \u001b[31m2.8 MB/s\u001b[0m eta \u001b[36m0:00:01\u001b[0m\r\u001b[2K     \u001b[90m━━━━━━━━━━━━━━━━━━━━━━━━━━━━━━━━━━━━━━━━\u001b[0m \u001b[32m126.0/126.0 kB\u001b[0m \u001b[31m2.7 MB/s\u001b[0m eta \u001b[36m0:00:00\u001b[0m\n",
            "\u001b[?25hRequirement already satisfied: requests in /usr/local/lib/python3.10/dist-packages (from vaderSentiment) (2.31.0)\n",
            "Requirement already satisfied: charset-normalizer<4,>=2 in /usr/local/lib/python3.10/dist-packages (from requests->vaderSentiment) (3.3.2)\n",
            "Requirement already satisfied: idna<4,>=2.5 in /usr/local/lib/python3.10/dist-packages (from requests->vaderSentiment) (3.7)\n",
            "Requirement already satisfied: urllib3<3,>=1.21.1 in /usr/local/lib/python3.10/dist-packages (from requests->vaderSentiment) (2.0.7)\n",
            "Requirement already satisfied: certifi>=2017.4.17 in /usr/local/lib/python3.10/dist-packages (from requests->vaderSentiment) (2024.6.2)\n",
            "Installing collected packages: vaderSentiment\n",
            "Successfully installed vaderSentiment-3.3.2\n"
          ]
        }
      ]
    },
    {
      "cell_type": "code",
      "source": [
        "!pip install google-api-python-client"
      ],
      "metadata": {
        "colab": {
          "base_uri": "https://localhost:8080/"
        },
        "id": "EexTCbCKlfII",
        "outputId": "28e10020-fb29-4b08-e309-a8cc3d3b2b13"
      },
      "execution_count": 5,
      "outputs": [
        {
          "output_type": "stream",
          "name": "stdout",
          "text": [
            "Requirement already satisfied: google-api-python-client in /usr/local/lib/python3.10/dist-packages (2.84.0)\n",
            "Requirement already satisfied: httplib2<1dev,>=0.15.0 in /usr/local/lib/python3.10/dist-packages (from google-api-python-client) (0.22.0)\n",
            "Requirement already satisfied: google-auth<3.0.0dev,>=1.19.0 in /usr/local/lib/python3.10/dist-packages (from google-api-python-client) (2.27.0)\n",
            "Requirement already satisfied: google-auth-httplib2>=0.1.0 in /usr/local/lib/python3.10/dist-packages (from google-api-python-client) (0.1.1)\n",
            "Requirement already satisfied: google-api-core!=2.0.*,!=2.1.*,!=2.2.*,!=2.3.0,<3.0.0dev,>=1.31.5 in /usr/local/lib/python3.10/dist-packages (from google-api-python-client) (2.16.2)\n",
            "Requirement already satisfied: uritemplate<5,>=3.0.1 in /usr/local/lib/python3.10/dist-packages (from google-api-python-client) (4.1.1)\n",
            "Requirement already satisfied: googleapis-common-protos<2.0.dev0,>=1.56.2 in /usr/local/lib/python3.10/dist-packages (from google-api-core!=2.0.*,!=2.1.*,!=2.2.*,!=2.3.0,<3.0.0dev,>=1.31.5->google-api-python-client) (1.63.2)\n",
            "Requirement already satisfied: protobuf!=3.20.0,!=3.20.1,!=4.21.0,!=4.21.1,!=4.21.2,!=4.21.3,!=4.21.4,!=4.21.5,<5.0.0.dev0,>=3.19.5 in /usr/local/lib/python3.10/dist-packages (from google-api-core!=2.0.*,!=2.1.*,!=2.2.*,!=2.3.0,<3.0.0dev,>=1.31.5->google-api-python-client) (3.20.3)\n",
            "Requirement already satisfied: requests<3.0.0.dev0,>=2.18.0 in /usr/local/lib/python3.10/dist-packages (from google-api-core!=2.0.*,!=2.1.*,!=2.2.*,!=2.3.0,<3.0.0dev,>=1.31.5->google-api-python-client) (2.31.0)\n",
            "Requirement already satisfied: cachetools<6.0,>=2.0.0 in /usr/local/lib/python3.10/dist-packages (from google-auth<3.0.0dev,>=1.19.0->google-api-python-client) (5.3.3)\n",
            "Requirement already satisfied: pyasn1-modules>=0.2.1 in /usr/local/lib/python3.10/dist-packages (from google-auth<3.0.0dev,>=1.19.0->google-api-python-client) (0.4.0)\n",
            "Requirement already satisfied: rsa<5,>=3.1.4 in /usr/local/lib/python3.10/dist-packages (from google-auth<3.0.0dev,>=1.19.0->google-api-python-client) (4.9)\n",
            "Requirement already satisfied: pyparsing!=3.0.0,!=3.0.1,!=3.0.2,!=3.0.3,<4,>=2.4.2 in /usr/local/lib/python3.10/dist-packages (from httplib2<1dev,>=0.15.0->google-api-python-client) (3.1.2)\n",
            "Requirement already satisfied: pyasn1<0.7.0,>=0.4.6 in /usr/local/lib/python3.10/dist-packages (from pyasn1-modules>=0.2.1->google-auth<3.0.0dev,>=1.19.0->google-api-python-client) (0.6.0)\n",
            "Requirement already satisfied: charset-normalizer<4,>=2 in /usr/local/lib/python3.10/dist-packages (from requests<3.0.0.dev0,>=2.18.0->google-api-core!=2.0.*,!=2.1.*,!=2.2.*,!=2.3.0,<3.0.0dev,>=1.31.5->google-api-python-client) (3.3.2)\n",
            "Requirement already satisfied: idna<4,>=2.5 in /usr/local/lib/python3.10/dist-packages (from requests<3.0.0.dev0,>=2.18.0->google-api-core!=2.0.*,!=2.1.*,!=2.2.*,!=2.3.0,<3.0.0dev,>=1.31.5->google-api-python-client) (3.7)\n",
            "Requirement already satisfied: urllib3<3,>=1.21.1 in /usr/local/lib/python3.10/dist-packages (from requests<3.0.0.dev0,>=2.18.0->google-api-core!=2.0.*,!=2.1.*,!=2.2.*,!=2.3.0,<3.0.0dev,>=1.31.5->google-api-python-client) (2.0.7)\n",
            "Requirement already satisfied: certifi>=2017.4.17 in /usr/local/lib/python3.10/dist-packages (from requests<3.0.0.dev0,>=2.18.0->google-api-core!=2.0.*,!=2.1.*,!=2.2.*,!=2.3.0,<3.0.0dev,>=1.31.5->google-api-python-client) (2024.6.2)\n"
          ]
        }
      ]
    },
    {
      "cell_type": "code",
      "source": [
        "# For Fetching Comments\n",
        "from googleapiclient.discovery import build\n",
        "# For filtering comments\n",
        "import re\n",
        "# For filtering comments with just emojis\n",
        "import emoji\n",
        "# Analyze the sentiments of the comment\n",
        "from vaderSentiment.vaderSentiment import SentimentIntensityAnalyzer\n",
        "# For visualization\n",
        "import matplotlib.pyplot as plt"
      ],
      "metadata": {
        "id": "dqX1JsUzpeoF"
      },
      "execution_count": 6,
      "outputs": []
    },
    {
      "cell_type": "code",
      "source": [
        "import re\n",
        "from googleapiclient.discovery import build\n",
        "\n",
        "# Replace with your API key\n",
        "API_KEY = 'AI............'  # Put in your API Key\n",
        "\n",
        "# Function to extract video ID from YouTube URL\n",
        "def extract_video_id(url):\n",
        "    regex = r\"(?:v=|\\/)([0-9A-Za-z_-]{11}).*\"\n",
        "    match = re.search(regex, url)\n",
        "    return match.group(1) if match else None\n",
        "\n",
        "# Build a service object for interacting with the YouTube Data API\n",
        "youtube = build('youtube', 'v3', developerKey=API_KEY)\n",
        "\n",
        "def get_video_details(video_id):\n",
        "    try:\n",
        "        video_response = youtube.videos().list(\n",
        "            part='snippet',\n",
        "            id=video_id\n",
        "        ).execute()\n",
        "\n",
        "        # Print the entire response for debugging\n",
        "        print(\"API Response: \", video_response)\n",
        "\n",
        "        # Check if response contains items\n",
        "        if not video_response['items']:\n",
        "            print(\"No items found in the response.\")\n",
        "            return None\n",
        "\n",
        "        # Splitting the response for channelID\n",
        "        video_snippet = video_response['items'][0]['snippet']\n",
        "        uploader_channel_id = video_snippet['channelId']\n",
        "        print(\"Channel ID: \" + uploader_channel_id)\n",
        "        return uploader_channel_id\n",
        "\n",
        "    except Exception as e:\n",
        "        print(f\"An error occurred: {e}\")\n",
        "        return None\n",
        "\n",
        "# Example URL input\n",
        "url = input('Enter Youtube Video URL: ')\n",
        "video_id = extract_video_id(url)\n",
        "print(f\"Extracted video id: {video_id}\")\n"
      ],
      "metadata": {
        "colab": {
          "base_uri": "https://localhost:8080/"
        },
        "id": "xgU9S_nTphNJ",
        "outputId": "0a23913d-706a-4f89-f3d0-eb1980733712"
      },
      "execution_count": 16,
      "outputs": [
        {
          "output_type": "stream",
          "name": "stdout",
          "text": [
            "Enter Youtube Video URL: https://youtu.be/0X0Jm8QValY?si=3J2ZZLu9lcJTsyGM\n",
            "Extracted video id: 0X0Jm8QValY\n"
          ]
        }
      ]
    },
    {
      "cell_type": "code",
      "source": [
        "# Get video details\n",
        "uploader_channel_id = get_video_details(video_id)\n",
        "if uploader_channel_id:\n",
        "    print(\"Fetching Comments...\")\n",
        "    comments = []\n",
        "    nextPageToken = None\n",
        "\n",
        "    while len(comments) < 600:\n",
        "        try:\n",
        "            request = youtube.commentThreads().list(\n",
        "                part='snippet',\n",
        "                videoId=video_id,\n",
        "                maxResults=100,  # You can fetch up to 100 comments per request\n",
        "                pageToken=nextPageToken\n",
        "            )\n",
        "            response = request.execute()\n",
        "\n",
        "            for item in response['items']:\n",
        "                comment = item['snippet']['topLevelComment']['snippet']\n",
        "                # Check if the comment is not from the video uploader\n",
        "                if comment['authorChannelId']['value'] != uploader_channel_id:\n",
        "                    comments.append(comment['textDisplay'])\n",
        "\n",
        "            nextPageToken = response.get('nextPageToken')\n",
        "            if not nextPageToken:\n",
        "                break\n",
        "        except Exception as e:\n",
        "            print(f\"An error occurred while fetching comments: {e}\")\n",
        "            break\n",
        "\n",
        "    # Print the first 5 comments\n",
        "    for comment in comments[:5]:\n",
        "        print(comment)\n",
        "else:\n",
        "    print(\"Could not fetch video details, terminating the script.\")"
      ],
      "metadata": {
        "colab": {
          "base_uri": "https://localhost:8080/"
        },
        "id": "BuxM-tKv2_3O",
        "outputId": "cf520e59-21f8-4cb5-ddb1-8e73cc98da09"
      },
      "execution_count": 17,
      "outputs": [
        {
          "output_type": "stream",
          "name": "stdout",
          "text": [
            "API Response:  {'kind': 'youtube#videoListResponse', 'etag': 'nLv67nZhSlJQmFwEJFgVw_v6THY', 'items': [{'kind': 'youtube#video', 'etag': 'mzhrnK7S3Qf8bTSIzvIsEQZZa08', 'id': '0X0Jm8QValY', 'snippet': {'publishedAt': '2023-10-02T23:08:40Z', 'channelId': 'UCBJycsmduvYEL83R_U4JriQ', 'title': 'iPhone 15 Review: Welcome to the Club!', 'description': 'iPhone 15 is not new. But that doesn\\'t mean it isn\\'t good.\\n\\nMKBHD Merch: http://shop.MKBHD.com\\n\\nTech I\\'m using right now: https://www.amazon.com/shop/MKBHD\\n\\nOutro track: http://youtube.com/20syl\\nPlaylist of MKBHD Intro music: https://goo.gl/B3AWV5\\n\\nPhone provided by Apple for review.\\n\\n0:00 Intro\\n0:59 \"All new\" design\\n3:04 Let\\'s get real about 60Hz\\n6:08 Performance and Heat/Battery\\n7:24 USB-C \\n8:09 Things that are actually new\\n10:11 Underrated camera upgrade\\n12:26 Verdict\\n\\n~\\nhttp://twitter.com/MKBHD\\nhttp://instagram.com/MKBHD\\nhttp://facebook.com/MKBHD', 'thumbnails': {'default': {'url': 'https://i.ytimg.com/vi/0X0Jm8QValY/default.jpg', 'width': 120, 'height': 90}, 'medium': {'url': 'https://i.ytimg.com/vi/0X0Jm8QValY/mqdefault.jpg', 'width': 320, 'height': 180}, 'high': {'url': 'https://i.ytimg.com/vi/0X0Jm8QValY/hqdefault.jpg', 'width': 480, 'height': 360}, 'standard': {'url': 'https://i.ytimg.com/vi/0X0Jm8QValY/sddefault.jpg', 'width': 640, 'height': 480}, 'maxres': {'url': 'https://i.ytimg.com/vi/0X0Jm8QValY/maxresdefault.jpg', 'width': 1280, 'height': 720}}, 'channelTitle': 'Marques Brownlee', 'tags': ['iPhone 15', 'iPhone 15 review', 'iPhone 15 vs', 'MKBHD', 'iPhone 15 pro', 'iPhone 15 Plus', 'iPhone 15 plus review', 'battery', 'cameras', 'overheating', 'software', 'update', 'iPhone 15 update', 'iOS 17 update', 'iOS 18 update', 'iOS 17.1'], 'categoryId': '28', 'liveBroadcastContent': 'none', 'defaultLanguage': 'en', 'localized': {'title': 'iPhone 15 Review: Welcome to the Club!', 'description': 'iPhone 15 is not new. But that doesn\\'t mean it isn\\'t good.\\n\\nMKBHD Merch: http://shop.MKBHD.com\\n\\nTech I\\'m using right now: https://www.amazon.com/shop/MKBHD\\n\\nOutro track: http://youtube.com/20syl\\nPlaylist of MKBHD Intro music: https://goo.gl/B3AWV5\\n\\nPhone provided by Apple for review.\\n\\n0:00 Intro\\n0:59 \"All new\" design\\n3:04 Let\\'s get real about 60Hz\\n6:08 Performance and Heat/Battery\\n7:24 USB-C \\n8:09 Things that are actually new\\n10:11 Underrated camera upgrade\\n12:26 Verdict\\n\\n~\\nhttp://twitter.com/MKBHD\\nhttp://instagram.com/MKBHD\\nhttp://facebook.com/MKBHD'}, 'defaultAudioLanguage': 'en-US'}}], 'pageInfo': {'totalResults': 1, 'resultsPerPage': 1}}\n",
            "Channel ID: UCBJycsmduvYEL83R_U4JriQ\n",
            "Fetching Comments...\n",
            "I wanted to ask if its okay to use samsung 25 watt adapter to charge iphone 15 ? Will it cause any issue with iphones battery life or any other issues?\n",
            "Which iPhone is good to buy for now\n",
            "MARQUES UR ASPECT RATIO DOESNT FIT WITHIN IN THE IPHONE SCREEN ANYMORE THE DYNAMIC ISLAND BLEEDS INTO ITTTTY\n",
            "Ill get this phone in about 4-5 years\n",
            "what weather widget is that?\n"
          ]
        }
      ]
    },
    {
      "cell_type": "code",
      "source": [
        "# Filter relevant comments\n",
        "hyperlink_pattern = re.compile(\n",
        "           r'http[s]?://(?:[a-zA-Z]|[0-9]|[$-_@.&+]|[!*\\\\(\\\\),]|(?:%[0-9a-fA-F][0-9a-fA-F]))+')\n",
        "\n",
        "threshold_ratio = 0.65\n",
        "\n",
        "relevant_comments = []\n",
        "\n",
        "# Inside your loop that processes comments\n",
        "for comment_text in comments:\n",
        "      comment_text = comment_text.lower().strip()\n",
        "\n",
        "      emojis = emoji.emoji_count(comment_text)\n",
        "\n",
        "      # Count text characters (excluding spaces)\n",
        "      text_characters = len(re.sub(r'\\s', '', comment_text))\n",
        "\n",
        "      if (any(char.isalnum() for char in comment_text)) and not hyperlink_pattern.search(comment_text):\n",
        "            if emojis == 0 or (text_characters / (text_characters + emojis)) > threshold_ratio:\n",
        "                relevant_comments.append(comment_text)\n",
        "\n",
        "# Print the relevant comments\n",
        "for comment in relevant_comments[:5]:\n",
        "        print(comment)\n",
        "else:\n",
        "    print(\"Could not fetch video details, terminating the script.\")"
      ],
      "metadata": {
        "colab": {
          "base_uri": "https://localhost:8080/"
        },
        "id": "KXsnDHc85ocR",
        "outputId": "2a942c7b-b0b9-4aca-dd19-b9853d19dde0"
      },
      "execution_count": 21,
      "outputs": [
        {
          "output_type": "stream",
          "name": "stdout",
          "text": [
            "i wanted to ask if its okay to use samsung 25 watt adapter to charge iphone 15 ? will it cause any issue with iphones battery life or any other issues?\n",
            "which iphone is good to buy for now\n",
            "marques ur aspect ratio doesnt fit within in the iphone screen anymore the dynamic island bleeds into itttty\n",
            "ill get this phone in about 4-5 years\n",
            "what weather widget is that?\n",
            "Could not fetch video details, terminating the script.\n"
          ]
        }
      ]
    },
    {
      "cell_type": "code",
      "source": [
        "# Save relevant comments to file\n",
        "with open(\"ytcomments.txt\", 'w', encoding='utf-8') as f:\n",
        "    for comment in relevant_comments:\n",
        "        f.write(comment + \"\\n\")\n",
        "\n",
        "print(\"Comments stored successfully!\")"
      ],
      "metadata": {
        "colab": {
          "base_uri": "https://localhost:8080/"
        },
        "id": "4XpYC4KiBAz7",
        "outputId": "ca43d96c-a364-47e5-d295-dd6b9b9c6a29"
      },
      "execution_count": 25,
      "outputs": [
        {
          "output_type": "stream",
          "name": "stdout",
          "text": [
            "Comments stored successfully!\n"
          ]
        }
      ]
    },
    {
      "cell_type": "code",
      "source": [
        "def sentiment_scores(comment, polarity):\n",
        "    # Creating a SentimentIntensityAnalyzer object.\n",
        "    sentiment_object = SentimentIntensityAnalyzer()\n",
        "\n",
        "    sentiment_dict = sentiment_object.polarity_scores(comment)\n",
        "    polarity.append(sentiment_dict['compound'])\n",
        "\n",
        "    return polarity\n",
        "\n",
        "polarity = []\n",
        "positive_comments = []\n",
        "negative_comments = []\n",
        "neutral_comments = []\n",
        "\n",
        "# Read comments from file\n",
        "with open(\"ytcomments.txt\", 'r', encoding='utf-8') as f:\n",
        "    comments = f.readlines()\n",
        "\n",
        "print(\"Analyzing Comments...\")\n",
        "\n",
        "# Perform sentiment analysis for each comment\n",
        "for index, comment in enumerate(comments):\n",
        "    polarity = sentiment_scores(comment, polarity)\n",
        "\n",
        "    # Classify comments based on sentiment score\n",
        "    if polarity[-1] > 0.05:\n",
        "        positive_comments.append(comment)\n",
        "    elif polarity[-1] < -0.05:\n",
        "        negative_comments.append(comment)\n",
        "    else:\n",
        "        neutral_comments.append(comment)\n",
        "\n",
        "# Print the first 5 polarity scores\n",
        "print(\"Polarity Scores (First 5):\", polarity[:5])\n",
        "\n",
        "# Print some statistics\n",
        "print(f\"Total Comments: {len(comments)}\")\n",
        "print(f\"Positive Comments: {len(positive_comments)}\")\n",
        "print(f\"Negative Comments: {len(negative_comments)}\")\n",
        "print(f\"Neutral Comments: {len(neutral_comments)}\")"
      ],
      "metadata": {
        "colab": {
          "base_uri": "https://localhost:8080/"
        },
        "id": "LzTLg6SIFeKM",
        "outputId": "a5c886bd-864f-4ea4-a5e4-35a42f858150"
      },
      "execution_count": 28,
      "outputs": [
        {
          "output_type": "stream",
          "name": "stdout",
          "text": [
            "Analyzing Comments...\n",
            "Polarity Scores (First 5): [0.3094, 0.4404, 0.1255, -0.4215, 0.0]\n",
            "Total Comments: 567\n",
            "Positive Comments: 313\n",
            "Negative Comments: 93\n",
            "Neutral Comments: 161\n"
          ]
        }
      ]
    },
    {
      "cell_type": "code",
      "source": [
        "avg_polarity = sum(polarity) / len(polarity)\n",
        "print(\"Average Polarity:\", avg_polarity)\n",
        "\n",
        "if avg_polarity > 0.05:\n",
        "    print(\"The Video has got a Positive response\")\n",
        "elif avg_polarity < -0.05:\n",
        "    print(\"The Video has got a Negative response\")\n",
        "else:\n",
        "    print(\"The Video has got a Neutral response\")\n",
        "\n",
        "# Find comment with the most positive sentiment\n",
        "max_positive_index = polarity.index(max(polarity))\n",
        "max_positive_comment = comments[max_positive_index].strip()\n",
        "max_positive_score = polarity[max_positive_index]\n",
        "max_positive_length = len(max_positive_comment)\n",
        "\n",
        "print(\"The comment with the most positive sentiment:\", max_positive_comment, \"with score\", max_positive_score, \"and length\", max_positive_length)\n",
        "\n",
        "# Find comment with the most negative sentiment\n",
        "min_negative_index = polarity.index(min(polarity))\n",
        "min_negative_comment = comments[min_negative_index].strip()\n",
        "min_negative_score = polarity[min_negative_index]\n",
        "min_negative_length = len(min_negative_comment)\n",
        "\n",
        "print(\"The comment with the most negative sentiment:\", min_negative_comment, \"with score\", min_negative_score, \"and length\", min_negative_length)\n"
      ],
      "metadata": {
        "colab": {
          "base_uri": "https://localhost:8080/"
        },
        "id": "f4vbyfdfFxFx",
        "outputId": "b054057e-faf0-445d-c605-c9af67eda51d"
      },
      "execution_count": 30,
      "outputs": [
        {
          "output_type": "stream",
          "name": "stdout",
          "text": [
            "Average Polarity: 0.23820211640211608\n",
            "The Video has got a Positive response\n",
            "The comment with the most positive sentiment: you know the ios you never notice na 60 hrts , i used it it very smooth ,important to me watching. movvies n youtube important to me the accurate color of the screen , that what i pay for , iphone is the best  screen with its true tone , and the camera superb , i don’t like android china phone , if you want that go , look all the hollywood celebrities using iphone ios ,,don’t base on the stupid 130 hrts , it consume more batery to  drain faster ,,if you have money this is a solid phone , waistng of time echoing your review 😂😂😂😂😂😂 with score 0.9834 and length 535\n",
            "The comment with the most negative sentiment: apart from the fact that the apple&#39;s os has always been shit in literally all of their devices, clearly including the rather yearly &quot;updated&quot; iphone, it&#39;s simply no surprise. the restrictive nature of apple is obvious in their os and you simply can&#39;t do crap; compared to other devices from different brands. i had apple for years, and i decided to stop buying their scammy little woke shit products. stop funding this load of scammers that try to create a standard when in reality they are controlling and restricting you to hell with devices that have hardware that is not worth it compared to other option in the market, and an os that is the literal definition of &quot;shitty restrictiveness&quot;. free yourself from this crap. with score -0.9552 and length 755\n"
          ]
        }
      ]
    },
    {
      "cell_type": "code",
      "source": [
        "# Counts of each sentiment category\n",
        "positive_count = len(positive_comments)\n",
        "negative_count = len(negative_comments)\n",
        "neutral_count = len(neutral_comments)\n",
        "\n",
        "# Labels and data for Bar chart\n",
        "labels = ['Positive', 'Negative', 'Neutral']\n",
        "comment_counts = [positive_count, negative_count, neutral_count]\n",
        "\n",
        "# Creating bar chart\n",
        "plt.bar(labels, comment_counts, color=['blue', 'red', 'grey'])\n",
        "\n",
        "# Adding labels and title to the plot\n",
        "plt.xlabel('Sentiment')\n",
        "plt.ylabel('Comment Count')\n",
        "plt.title('Sentiment Analysis of Comments')\n",
        "\n",
        "# Displaying the chart\n",
        "plt.show()"
      ],
      "metadata": {
        "colab": {
          "base_uri": "https://localhost:8080/",
          "height": 472
        },
        "id": "VAJNEcykGPrK",
        "outputId": "d0530cc9-4539-417b-e00a-42cc41299db6"
      },
      "execution_count": 31,
      "outputs": [
        {
          "output_type": "display_data",
          "data": {
            "text/plain": [
              "<Figure size 640x480 with 1 Axes>"
            ],
            "image/png": "[encoded data removed]"
          },
          "metadata": {}
        }
      ]
    },
    {
      "cell_type": "code",
      "source": [
        "# Counts of each sentiment category\n",
        "positive_count = len(positive_comments)\n",
        "negative_count = len(negative_comments)\n",
        "neutral_count = len(neutral_comments)\n",
        "\n",
        "# Labels and data for Pie chart\n",
        "labels = ['Positive', 'Negative', 'Neutral']\n",
        "comment_counts = [positive_count, negative_count, neutral_count]\n",
        "\n",
        "plt.figure(figsize=(10, 6))  # Setting size of the figure\n",
        "\n",
        "# Plotting pie chart\n",
        "plt.pie(comment_counts, labels=labels, autopct='%1.1f%%', startangle=140, colors=['skyblue', 'lightcoral', 'lightgrey'])"
      ],
      "metadata": {
        "colab": {
          "base_uri": "https://localhost:8080/",
          "height": 655
        },
        "id": "7pwh3lEXGQoK",
        "outputId": "e9e88bb1-4b65-48ba-9188-c4888258afb9"
      },
      "execution_count": 32,
      "outputs": [
        {
          "output_type": "execute_result",
          "data": {
            "text/plain": [
              "([<matplotlib.patches.Wedge at 0x7f70b0fb9330>,\n",
              "  <matplotlib.patches.Wedge at 0x7f70b0fb8b50>,\n",
              "  <matplotlib.patches.Wedge at 0x7f70b0fb8130>],\n",
              " [Text(-0.5605224591962116, -0.946474813577536, 'Positive'),\n",
              "  Text(1.0886055709037217, 0.15791741828367833, 'Negative'),\n",
              "  Text(0.021330292060992604, 1.0997931708464974, 'Neutral')],\n",
              " [Text(-0.3057395231979335, -0.5162589892241105, '55.2%'),\n",
              "  Text(0.5937848568565754, 0.08613677360927909, '16.4%'),\n",
              "  Text(0.011634704760541419, 0.5998871840980894, '28.4%')])"
            ]
          },
          "metadata": {},
          "execution_count": 32
        },
        {
          "output_type": "display_data",
          "data": {
            "text/plain": [
              "<Figure size 1000x600 with 1 Axes>"
            ],
            "image/png": "[encoded data removed]"
          },
          "metadata": {}
        }
      ]
    },
    {
      "cell_type": "code",
      "source": [],
      "metadata": {
        "id": "5UpG2NCUGbFb"
      },
      "execution_count": null,
      "outputs": []
    }
  ]
}
